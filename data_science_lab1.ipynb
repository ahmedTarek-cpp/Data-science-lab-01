{
 "cells": [
  {
   "cell_type": "code",
   "execution_count": null,
   "metadata": {},
   "outputs": [],
   "source": [
    "def get_student_info():\n",
    "    \n",
    "    num_students = int(input(\"Enter the number of students: \"))\n",
    "    student_data = {} \n",
    "\n",
    "    for i in range(num_students):\n",
    "        student_name = input(f\"Enter the name of student {i + 1}: \")\n",
    "        student_id = input(f\"Enter the ID of student {i + 1}: \")\n",
    "        student_data[student_id] = student_name\n",
    "\n",
    "    return student_data\n",
    "\n",
    "def print_student_info(student_data):\n",
    "    print(\"\\nEntered student names and IDs:\")\n",
    "    for student_id, student_name in student_data.items():\n",
    "        print(f\"ID: {student_id}, Name: {student_name}\")\n",
    "\n",
    "if __name__ == \"__main__\":\n",
    "    students = get_student_info()\n",
    "    print_student_info(students)\n"
   ]
  }
 ],
 "metadata": {
  "kernelspec": {
   "display_name": "Python 3",
   "language": "python",
   "name": "python3"
  },
  "language_info": {
   "codemirror_mode": {
    "name": "ipython",
    "version": 3
   },
   "file_extension": ".py",
   "mimetype": "text/x-python",
   "name": "python",
   "nbconvert_exporter": "python",
   "pygments_lexer": "ipython3",
   "version": "3.12.1"
  }
 },
 "nbformat": 4,
 "nbformat_minor": 2
}
